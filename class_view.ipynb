{
 "cells": [
  {
   "cell_type": "code",
   "execution_count": 3,
   "id": "dca2858a",
   "metadata": {},
   "outputs": [
    {
     "name": "stdout",
     "output_type": "stream",
     "text": [
      "Class User\n",
      "[]\n"
     ]
    }
   ],
   "source": [
    "import ast\n",
    "from pathlib import Path\n",
    "from typing import List, Dict, Set\n",
    "from typeguard import typechecked\n",
    "from itertools import zip_longest\n",
    "\n",
    "@typechecked\n",
    "def classes_from_file(file: Path) -> List[str]:\n",
    "    ''' Use ast to extract all imports from file '''\n",
    "    class ClassVisitor(ast.NodeVisitor):\n",
    "\n",
    "        def __init__(self):\n",
    "            self.classes = set()\n",
    "\n",
    "        def visit_ClassDef(self, class_node):\n",
    "            print('Class ' + class_node.name)\n",
    "            super(ClassVisitor, self).generic_visit(class_node)\n",
    "\n",
    "\n",
    "    #print('imports_from_file ' + str(file))\n",
    "            \n",
    "    file_ast = ast.parse(open(file).read())\n",
    "    visitor = ClassVisitor()        \n",
    "    visitor.visit(file_ast)\n",
    "    classes = list(visitor.classes)\n",
    "    classes.sort()\n",
    "    return classes\n",
    "\n",
    "source_folder: Path = Path('C:/Users/Carsten/source/repos/Zeeguu-API')\n",
    "print(classes_from_file(source_folder / \"zeeguu_core/model/user.py\"))"
   ]
  },
  {
   "cell_type": "code",
   "execution_count": null,
   "id": "6e6b1e4d",
   "metadata": {},
   "outputs": [],
   "source": []
  }
 ],
 "metadata": {
  "kernelspec": {
   "display_name": "Python 3",
   "language": "python",
   "name": "python3"
  },
  "language_info": {
   "codemirror_mode": {
    "name": "ipython",
    "version": 3
   },
   "file_extension": ".py",
   "mimetype": "text/x-python",
   "name": "python",
   "nbconvert_exporter": "python",
   "pygments_lexer": "ipython3",
   "version": "3.8.8"
  }
 },
 "nbformat": 4,
 "nbformat_minor": 5
}
