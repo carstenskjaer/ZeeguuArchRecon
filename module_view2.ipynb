{
 "cells": [
  {
   "cell_type": "code",
   "execution_count": 61,
   "id": "a3f9b5c1",
   "metadata": {},
   "outputs": [],
   "source": [
    "import ast\n",
    "from pathlib import Path\n",
    "from typing import List, Dict, Set\n",
    "from typeguard import typechecked\n",
    "\n",
    "# Root folder of all source code analyzed\n",
    "source_folder: Path = Path('C:/Users/Carsten/source/repos/Zeeguu-Core')\n",
    "\n",
    "# The packages we analyze - use folders in root dir\n",
    "packages: List[Path] = [x for x in source_folder.iterdir() if x.is_dir() and not x.name.startswith('.') and not x.name == 'doc']\n",
    "\n",
    "# The dict of infos for each package - we will add to the inner dict below\n",
    "package_infos: Dict[str, Dict] =  { p.name: {'path': p} for p in packages}\n",
    "\n",
    "# Add list of files to inner package_infos dict\n",
    "for name, info in package_infos.items():\n",
    "    files = [file for file in info['path'].rglob('*.py')]\n",
    "    info['files'] = files"
   ]
  },
  {
   "cell_type": "code",
   "execution_count": 62,
   "id": "5c6eca37",
   "metadata": {},
   "outputs": [],
   "source": [
    "@typechecked\n",
    "def imports_from_file(file: Path) -> List[str]:\n",
    "    ''' Use ast to extract all imports from file '''\n",
    "    class ImportVisitor(ast.NodeVisitor):\n",
    "\n",
    "        def __init__(self):\n",
    "            self.imports = set()\n",
    "\n",
    "        def visit_Import(self, import_node):\n",
    "            for alias in import_node.names:\n",
    "                self.imports.add(alias.name)\n",
    "            super(ImportVisitor, self).generic_visit(import_node)\n",
    "\n",
    "        def visit_ImportFrom(self, import_from_node):\n",
    "            m1 = import_from_node.module\n",
    "            if (m1 is not None):\n",
    "                for m2 in import_from_node.names:\n",
    "                    self.imports.add(m1 + '.' + m2.name)\n",
    "            super(ImportVisitor, self).generic_visit(import_from_node)\n",
    "\n",
    "    #print('imports_from_file ' + str(file))\n",
    "            \n",
    "    file_ast = ast.parse(open(file).read())\n",
    "    visitor = ImportVisitor()        \n",
    "    visitor.visit(file_ast)\n",
    "    imports = list(visitor.imports)\n",
    "    imports.sort()\n",
    "    return imports"
   ]
  },
  {
   "cell_type": "code",
   "execution_count": 63,
   "id": "ad2d566e",
   "metadata": {},
   "outputs": [],
   "source": [
    "@typechecked\n",
    "def is_module_in_package(module: str, package: str) -> bool:\n",
    "    ''' Check if module (e.g. 'x.y.z') is part of a package (e.g. 'x.y') '''\n",
    "    for m, p in zip(module.split('.'), package.split('.')):\n",
    "        if (m != p):\n",
    "            return False\n",
    "    return True"
   ]
  },
  {
   "cell_type": "code",
   "execution_count": 64,
   "id": "b78e4cc6",
   "metadata": {},
   "outputs": [
    {
     "name": "stdout",
     "output_type": "stream",
     "text": [
      "{'analyses': 0, 'playground': 0, 'tools': 0, 'zeeguu_core': 20, 'zeeguu_core_test': 0}\n"
     ]
    }
   ],
   "source": [
    "@typechecked\n",
    "def import_info_from_file(file: Path, info: Dict[str, int]) -> None:\n",
    "    ''' Examine all imports from file and update the info dict\n",
    "        \n",
    "        info dict is a map from package to import count and only imports\n",
    "        to packages already in the info dict is considered\n",
    "    '''\n",
    "    for i in imports_from_file(file):\n",
    "        for p in info:\n",
    "            if (is_module_in_package(i, p)):\n",
    "                info[p] = info[p] + 1\n",
    "\n",
    "info = {p.name:0 for p in packages}\n",
    "import_info_from_file(source_folder / \"zeeguu_core/model/user.py\", info)\n",
    "print(info)"
   ]
  },
  {
   "cell_type": "code",
   "execution_count": 65,
   "id": "6239fe34",
   "metadata": {},
   "outputs": [],
   "source": [
    "# Add import info to inner dict in package_infos\n",
    "for name, info in package_infos.items():\n",
    "    import_info = {p.name:0 for p in packages}\n",
    "    for file in info['files']:\n",
    "        import_info_from_file(file, import_info)\n",
    "    info['import_info'] = import_info\n"
   ]
  },
  {
   "cell_type": "code",
   "execution_count": 66,
   "id": "a6947204",
   "metadata": {},
   "outputs": [],
   "source": [
    "@typechecked\n",
    "def LOC(file: Path) -> int:\n",
    "    ''' Return the number of lines in a file\n",
    "    \n",
    "        TODO: better definition here\n",
    "    '''\n",
    "    return sum([1 for line in open(file)])"
   ]
  },
  {
   "cell_type": "code",
   "execution_count": 80,
   "id": "463109bc",
   "metadata": {},
   "outputs": [],
   "source": [
    "# Add total LOC to inner dict in package_infos\n",
    "for name, info in package_infos.items():\n",
    "    info['LOC'] = sum([LOC(f) for f in info['files']])\n"
   ]
  },
  {
   "cell_type": "code",
   "execution_count": 79,
   "id": "9999df95",
   "metadata": {},
   "outputs": [
    {
     "data": {
      "text/html": [
       "\n",
       "        <iframe\n",
       "            width=\"500px\"\n",
       "            height=\"500px\"\n",
       "            src=\"arch_recon.html\"\n",
       "            frameborder=\"0\"\n",
       "            allowfullscreen\n",
       "        ></iframe>\n",
       "        "
      ],
      "text/plain": [
       "<IPython.lib.display.IFrame at 0x27227432730>"
      ]
     },
     "execution_count": 79,
     "metadata": {},
     "output_type": "execute_result"
    }
   ],
   "source": [
    "# Visualize\n",
    "from pyvis.network import Network\n",
    "from numpy import log as ln\n",
    "\n",
    "net = Network(directed=True, notebook=True)\n",
    "\n",
    "# Nodes\n",
    "for name, info in package_infos.items():\n",
    "    net.add_node(name, size = ln(info['LOC']), title = name + \" LOC: \" + str(info['LOC']), label=name)\n",
    "\n",
    "# Edges\n",
    "for name, info in package_infos.items():\n",
    "    for dependency, count in info['import_info'].items():\n",
    "        if (name != dependency and count > 0):\n",
    "            net.add_edge(name, dependency, title = str(count), width = ln(count), arrowStrikethrough=False)\n",
    "net.show('arch_recon.html')"
   ]
  }
 ],
 "metadata": {
  "kernelspec": {
   "display_name": "Python 3",
   "language": "python",
   "name": "python3"
  },
  "language_info": {
   "codemirror_mode": {
    "name": "ipython",
    "version": 3
   },
   "file_extension": ".py",
   "mimetype": "text/x-python",
   "name": "python",
   "nbconvert_exporter": "python",
   "pygments_lexer": "ipython3",
   "version": "3.8.8"
  }
 },
 "nbformat": 4,
 "nbformat_minor": 5
}
