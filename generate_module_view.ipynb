{
 "cells": [
  {
   "cell_type": "code",
   "execution_count": 90,
   "id": "a3f9b5c1",
   "metadata": {},
   "outputs": [],
   "source": [
    "import ast\n",
    "from pathlib import Path\n",
    "from typing import List, Dict, Set\n",
    "from typeguard import typechecked\n",
    "from itertools import zip_longest\n",
    "from pyvis.network import Network\n",
    "from numpy import log as ln\n",
    "\n",
    "@typechecked\n",
    "def imports_from_file(file: Path) -> List[str]:\n",
    "    ''' Use ast to extract all imports from file\n",
    "    '''\n",
    "    class ImportVisitor(ast.NodeVisitor):\n",
    "\n",
    "        def __init__(self):\n",
    "            self.imports = set()\n",
    "\n",
    "        def visit_Import(self, import_node):\n",
    "            for alias in import_node.names:\n",
    "                self.imports.add(alias.name)\n",
    "            super(ImportVisitor, self).generic_visit(import_node)\n",
    "\n",
    "        def visit_ImportFrom(self, import_from_node):\n",
    "            m1 = import_from_node.module\n",
    "            if (m1 is not None):\n",
    "                for m2 in import_from_node.names:\n",
    "                    self.imports.add(m1 + '.' + m2.name)\n",
    "            super(ImportVisitor, self).generic_visit(import_from_node)\n",
    "\n",
    "    try:\n",
    "        file_ast = ast.parse(open(file).read())\n",
    "    except:\n",
    "        print(f\"Error parsing {file}\")\n",
    "        return []\n",
    "    visitor = ImportVisitor()        \n",
    "    visitor.visit(file_ast)\n",
    "    imports = list(visitor.imports)\n",
    "    imports.sort()\n",
    "    return imports\n",
    "\n",
    "@typechecked\n",
    "def is_module_in_package(module: str, package: str) -> bool:\n",
    "    ''' Check if module (e.g. 'x.y.z') is part of a package (e.g. 'x.y')\n",
    "    '''\n",
    "    for m, p in zip_longest(module.split('.'), package.split('.')):\n",
    "        if (m != p and p != None):\n",
    "            return False\n",
    "    return True\n",
    "\n",
    "assert(is_module_in_package('zeeguu_core.util.hash', 'zeeguu_core.util'))\n",
    "assert(not is_module_in_package('zeeguu_core.util.hash', 'zeeguu_core.x'))\n",
    "assert(not is_module_in_package('zeeguu_core.util', 'zeeguu_core.util.hash'))\n",
    "\n",
    "@typechecked\n",
    "def import_info_from_file(file: Path, info: Dict[str, int]) -> None:\n",
    "    ''' Examine all imports from file and update the info dict\n",
    "        \n",
    "        info dict is a map from package to import count and only imports\n",
    "        to packages already in the info dict is considered\n",
    "    '''\n",
    "    for i in imports_from_file(file):\n",
    "        for p in info:\n",
    "            if (is_module_in_package(i, p)):\n",
    "                info[p] = info[p] + 1\n",
    "\n",
    "@typechecked\n",
    "def LOC(file: Path) -> int:\n",
    "    ''' Return the number of Lines Of Code in a file\n",
    "        TODO: discount comment lines?\n",
    "    '''\n",
    "    return sum([1 for line in open(file)])\n",
    "\n",
    "\n",
    "@typechecked\n",
    "def module_view_from_packages(packages: List[Path], source_folder: Path, network_size: str = '500px') -> [Network, Dict[str, Dict]]:\n",
    "    ''' TODO\n",
    "    '''\n",
    "    # The dict of infos for each package - we will add to the inner dict below\n",
    "    package_infos: Dict[str, Dict] =  { str(p.relative_to(source_folder)).replace('\\\\','.'): {'path': p} for p in packages}\n",
    "\n",
    "    # Add list of files to inner package_infos dict\n",
    "    for name, info in package_infos.items():\n",
    "        files = [file for file in info['path'].rglob('*.py')]\n",
    "        info['files'] = files\n",
    "    \n",
    "    # Add import info to inner dict in package_infos\n",
    "    for name, info in package_infos.items():\n",
    "        import_info = {k:0 for k in package_infos.keys()}\n",
    "        for file in info['files']:\n",
    "            import_info_from_file(file, import_info)\n",
    "        info['import_info'] = import_info\n",
    "       \n",
    "    # Add total LOC to inner dict in package_infos\n",
    "    total_loc = 0\n",
    "    for name, info in package_infos.items():\n",
    "        loc = sum([LOC(f) for f in info['files']])\n",
    "        info['LOC'] = loc\n",
    "        total_loc += loc\n",
    "\n",
    "    # Create network\n",
    "    net = Network(directed=True, notebook=True, height=network_size, width=network_size)\n",
    "    net.set_edge_smooth('dynamic')\n",
    "\n",
    "    # Nodes\n",
    "    size_scale = 100/(len(package_infos)**0.1*total_loc)\n",
    "    for name, info in package_infos.items():\n",
    "        net.add_node(name, size = size_scale*info['LOC'], title = name + \" LOC: \" + str(info['LOC']), label=name)\n",
    "\n",
    "    # Edges\n",
    "    for name, info in package_infos.items():\n",
    "        for dependency, count in info['import_info'].items():\n",
    "            if (name != dependency and count > 0):\n",
    "                net.add_edge(name, dependency, title = str(count), width = ln(count), arrowStrikethrough=False)\n",
    "\n",
    "    return [net, package_infos]"
   ]
  },
  {
   "cell_type": "code",
   "execution_count": 91,
   "id": "f3077de8",
   "metadata": {},
   "outputs": [
    {
     "data": {
      "text/html": [
       "\n",
       "        <iframe\n",
       "            width=\"500px\"\n",
       "            height=\"500px\"\n",
       "            src=\"module_view_simple.html\"\n",
       "            frameborder=\"0\"\n",
       "            allowfullscreen\n",
       "        ></iframe>\n",
       "        "
      ],
      "text/plain": [
       "<IPython.lib.display.IFrame at 0x19403933b50>"
      ]
     },
     "execution_count": 91,
     "metadata": {},
     "output_type": "execute_result"
    }
   ],
   "source": [
    "# Root folder of all source code analyzed\n",
    "source_folder: Path = Path('C:/Users/Carsten/source/repos/Zeeguu-API')\n",
    "\n",
    "# Generate module view using top level folders\n",
    "packages: List[Path] = [x for x in source_folder.iterdir() if x.is_dir() and not x.name.startswith('.')]\n",
    "[net, package_infos] = module_view_from_packages(packages, source_folder)\n",
    "net.show('module_view_simple.html')\n"
   ]
  },
  {
   "cell_type": "code",
   "execution_count": 92,
   "id": "6ed9fc66",
   "metadata": {},
   "outputs": [
    {
     "name": "stdout",
     "output_type": "stream",
     "text": [
      "C:\\Users\\Carsten\\source\\repos\\Zeeguu-API\\zeeguu_core\\emailer\\zeeguu_mailer.py\n"
     ]
    }
   ],
   "source": [
    "# Find the file in zeeguu_core that has a reference to zeeguu_api\n",
    "p = package_infos['zeeguu_core']\n",
    "for f in p['files']:\n",
    "    imports = imports_from_file(f)\n",
    "    for i in imports:\n",
    "        if i.startswith('zeeguu_api'):\n",
    "            print(f)"
   ]
  },
  {
   "cell_type": "code",
   "execution_count": 93,
   "id": "c5d2b6c4",
   "metadata": {},
   "outputs": [
    {
     "data": {
      "text/html": [
       "\n",
       "        <iframe\n",
       "            width=\"1000px\"\n",
       "            height=\"1000px\"\n",
       "            src=\"module_view_detailed.html\"\n",
       "            frameborder=\"0\"\n",
       "            allowfullscreen\n",
       "        ></iframe>\n",
       "        "
      ],
      "text/plain": [
       "<IPython.lib.display.IFrame at 0x19405c7f700>"
      ]
     },
     "execution_count": 93,
     "metadata": {},
     "output_type": "execute_result"
    }
   ],
   "source": [
    "# Generate module view using top level folders and sub-folders of zeeguu_core\n",
    "packages: List[Path] = [x for x in source_folder.iterdir() if x.is_dir() and not x.name.startswith('.') and not x.name.startswith('zeeguu_core')]\n",
    "packages.extend([x for x in (source_folder/'zeeguu_core').iterdir() if x.is_dir() and not x.name.startswith('.')])\n",
    "\n",
    "[net, package_infos] = module_view_from_packages(packages, source_folder, '1000px')\n",
    "net.show('module_view_detailed.html')\n"
   ]
  },
  {
   "cell_type": "code",
   "execution_count": 94,
   "id": "92d73712",
   "metadata": {},
   "outputs": [
    {
     "name": "stdout",
     "output_type": "stream",
     "text": [
      "Class User\n",
      "[]\n"
     ]
    }
   ],
   "source": []
  }
 ],
 "metadata": {
  "kernelspec": {
   "display_name": "Python 3",
   "language": "python",
   "name": "python3"
  },
  "language_info": {
   "codemirror_mode": {
    "name": "ipython",
    "version": 3
   },
   "file_extension": ".py",
   "mimetype": "text/x-python",
   "name": "python",
   "nbconvert_exporter": "python",
   "pygments_lexer": "ipython3",
   "version": "3.8.8"
  }
 },
 "nbformat": 4,
 "nbformat_minor": 5
}
